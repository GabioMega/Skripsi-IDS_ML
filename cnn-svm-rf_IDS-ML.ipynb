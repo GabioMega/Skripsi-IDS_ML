{
 "cells": [
  {
   "cell_type": "code",
   "execution_count": 2,
   "metadata": {},
   "outputs": [],
   "source": [
    "%pip install tensorflow"
   ]
  },
  {
   "cell_type": "code",
   "execution_count": 2,
   "metadata": {},
   "outputs": [],
   "source": [
    "import pandas as pd\n",
    "import numpy as np\n",
    "from sklearn.utils import resample\n",
    "from sklearn import preprocessing"
   ]
  },
  {
   "cell_type": "code",
   "execution_count": null,
   "metadata": {},
   "outputs": [],
   "source": [
    "import pandas as pd\n",
    "import os\n",
    "\n",
    "# Folder dan file output\n",
    "folder_path = \"C:/Users/Eileen/Documents/Skripsi/archive/01-12/\"\n",
    "files = [\n",
    "    \"TFTP.csv\", \"DrDoS_LDAP.csv\", \"DrDoS_MSSQL.csv\", \"DrDoS_NetBIOS.csv\",\n",
    "    \"DrDoS_NTP.csv\", \"DrDoS_SNMP.csv\", \"DrDoS_SSDP.csv\",\n",
    "    \"DrDoS_UDP.csv\", \"Syn.csv\", \"DrDoS_DNS.csv\", \"UDPLag.csv\"\n",
    "]\n",
    "output_file = \"C:/Users/Eileen/Documents/Skripsi/archive/export_dataframe.csv\"\n",
    "\n",
    "# Jika file output sudah ada, hapus agar tidak bentrok\n",
    "if os.path.exists(output_file):\n",
    "    os.remove(output_file)\n",
    "\n",
    "chunk_size = 5000\n",
    "header_saved = False\n",
    "\n",
    "for i, file in enumerate(files, start=1):\n",
    "    file_path = os.path.join(folder_path, file)\n",
    "    print(f\"Processing file {i}/{len(files)}: {file}\")\n",
    "\n",
    "    # Baca file secara bertahap (chunk)\n",
    "    for chunk in pd.read_csv(file_path, chunksize=chunk_size, low_memory=True):\n",
    "        # Tulis chunk ke file CSV (append mode)\n",
    "        if not header_saved:\n",
    "            # Tulis header pada chunk pertama\n",
    "            chunk.to_csv(output_file, mode='a', index=False, header=True)\n",
    "            header_saved = True\n",
    "        else:\n",
    "            # Selanjutnya tulis tanpa header\n",
    "            chunk.to_csv(output_file, mode='a', index=False, header=False)\n",
    "\n",
    "    print(f\"File {file} selesai di-append ke {output_file}\")\n",
    "\n",
    "print(\"Semua file berhasil digabungkan!\")\n",
    "\n"
   ]
  },
  {
   "cell_type": "code",
   "execution_count": 2,
   "metadata": {},
   "outputs": [
    {
     "name": "stdout",
     "output_type": "stream",
     "text": [
      "Processing file 1/7: LDAP.csv\n",
      "File LDAP.csv selesai di-append ke C:/Users/Eileen/Documents/Skripsi/archive/export_datatest.csv\n",
      "Processing file 2/7: MSSQL.csv\n",
      "File MSSQL.csv selesai di-append ke C:/Users/Eileen/Documents/Skripsi/archive/export_datatest.csv\n",
      "Processing file 3/7: NetBIOS.csv\n",
      "File NetBIOS.csv selesai di-append ke C:/Users/Eileen/Documents/Skripsi/archive/export_datatest.csv\n",
      "Processing file 4/7: Portmap.csv\n",
      "File Portmap.csv selesai di-append ke C:/Users/Eileen/Documents/Skripsi/archive/export_datatest.csv\n",
      "Processing file 5/7: Syn.csv\n",
      "File Syn.csv selesai di-append ke C:/Users/Eileen/Documents/Skripsi/archive/export_datatest.csv\n",
      "Processing file 6/7: UDP.csv\n",
      "File UDP.csv selesai di-append ke C:/Users/Eileen/Documents/Skripsi/archive/export_datatest.csv\n",
      "Processing file 7/7: UDPLag.csv\n",
      "File UDPLag.csv selesai di-append ke C:/Users/Eileen/Documents/Skripsi/archive/export_datatest.csv\n",
      "Semua file berhasil digabungkan!\n"
     ]
    }
   ],
   "source": [
    "import pandas as pd\n",
    "import os\n",
    "\n",
    "# Folder dan file output\n",
    "folder_path = \"C:/Users/Eileen/Documents/Skripsi/archive/03-11/\"\n",
    "files = [\"LDAP.csv\", \"MSSQL.csv\", \"NetBIOS.csv\", \"Portmap.csv\", \"Syn.csv\",\"UDP.csv\",\"UDPLag.csv\"]\n",
    "output_file = \"C:/Users/Eileen/Documents/Skripsi/archive/export_datatest.csv\"\n",
    "\n",
    "# Jika file output sudah ada, hapus agar tidak bentrok\n",
    "if os.path.exists(output_file):\n",
    "    os.remove(output_file)\n",
    "\n",
    "chunk_size = 5000\n",
    "header_saved = False\n",
    "\n",
    "for i, file in enumerate(files, start=1):\n",
    "    file_path = os.path.join(folder_path, file)\n",
    "    print(f\"Processing file {i}/{len(files)}: {file}\")\n",
    "\n",
    "    # Baca file secara bertahap (chunk)\n",
    "    for chunk in pd.read_csv(file_path, chunksize=chunk_size, low_memory=True):\n",
    "        # Tulis chunk ke file CSV (append mode)\n",
    "        if not header_saved:\n",
    "            # Tulis header pada chunk pertama\n",
    "            chunk.to_csv(output_file, mode='a', index=False, header=True)\n",
    "            header_saved = True\n",
    "        else:\n",
    "            # Selanjutnya tulis tanpa header\n",
    "            chunk.to_csv(output_file, mode='a', index=False, header=False)\n",
    "\n",
    "    print(f\"File {file} selesai di-append ke {output_file}\")\n",
    "\n",
    "print(\"Semua file berhasil digabungkan!\")\n"
   ]
  },
  {
   "cell_type": "code",
   "execution_count": null,
   "metadata": {},
   "outputs": [],
   "source": [
    "import pandas as pd\n",
    "import numpy as np\n",
    "import hashlib\n",
    "import pyarrow as pa\n",
    "import pyarrow.parquet as pq\n",
    "\n",
    "# Path file\n",
    "csv_path = 'C:/Users/Eileen/Documents/Skripsi/archive/export_dataframe.csv'\n",
    "parquet_path = 'C:/Users/Eileen/Documents/Skripsi/archive/export_dataframe.parquet'\n",
    "\n",
    "# Fungsi untuk mengubah string menjadi hash numerik\n",
    "def string2numeric_hash(text):\n",
    "    return int(hashlib.md5(text.encode()).hexdigest()[:8], 16)\n",
    "\n",
    "# Tentukan ukuran chunk (sesuaikan dengan kapasitas memory Anda)\n",
    "chunksize = 10000\n",
    "\n",
    "# Baca CSV secara bertahap (chunking)\n",
    "chunk_iter = pd.read_csv(csv_path, sep=',', chunksize=chunksize, low_memory=False)\n",
    "\n",
    "# Inisialisasi writer sebagai None\n",
    "writer = None\n",
    "\n",
    "for chunk in chunk_iter:\n",
    "    # Hilangkan spasi ekstra pada nama kolom\n",
    "    chunk.columns = chunk.columns.str.strip()\n",
    "    \n",
    "    # Ganti nilai 'Infinity' dan np.inf dengan 0\n",
    "    chunk = chunk.replace(['Infinity', np.inf], 0)\n",
    "\n",
    "    # Konversi kolom numerik dengan aman\n",
    "    if 'Flow Packets/s' in chunk.columns:\n",
    "        chunk['Flow Packets/s'] = pd.to_numeric(chunk['Flow Packets/s'], errors='coerce').fillna(0)\n",
    "    if 'Flow Bytes/s' in chunk.columns:\n",
    "        chunk['Flow Bytes/s'] = pd.to_numeric(chunk['Flow Bytes/s'], errors='coerce').fillna(0)\n",
    "\n",
    "    # Konversi label menjadi numerik\n",
    "    if 'Label' in chunk.columns:\n",
    "        chunk['Label'] = chunk['Label'].replace({\n",
    "            'BENIGN': 0, 'DrDoS_DNS': 1, 'DrDoS_LDAP': 1, 'DrDoS_MSSQL': 1,\n",
    "            'DrDoS_NTP': 1, 'DrDoS_NetBIOS': 1, 'DrDoS_SNMP': 1, 'DrDoS_SSDP': 1,\n",
    "            'DrDoS_UDP': 1, 'Syn': 1, 'TFTP': 1, 'UDP-lag': 1, 'WebDDoS': 1\n",
    "        }).astype(int)\n",
    "\n",
    "    # Pastikan kolom Timestamp tidak memiliki nilai NaN, lalu proses\n",
    "    if 'Timestamp' in chunk.columns:\n",
    "        chunk['Timestamp'] = chunk['Timestamp'].fillna('1970-01-01 00:00:00.000000')\n",
    "        # Pisahkan tanggal dan waktu\n",
    "        time_parts = chunk['Timestamp'].str.split(' ', n=1, expand=True)\n",
    "        if time_parts.shape[1] == 2:\n",
    "            time_parts.columns = ['date', 'time']\n",
    "            # Pisahkan waktu dari milidetik (jika ada)\n",
    "            time_split = time_parts['time'].str.split('.', n=1, expand=True)\n",
    "            if time_split.shape[1] == 2:\n",
    "                time_split.columns = ['time', 'millisec']\n",
    "                chunk['Timestamp'] = time_split['time'].apply(string2numeric_hash)\n",
    "            else:\n",
    "                chunk['Timestamp'] = chunk['Timestamp'].apply(string2numeric_hash)\n",
    "        else:\n",
    "            chunk['Timestamp'] = chunk['Timestamp'].apply(string2numeric_hash)\n",
    "\n",
    "    # Hapus kolom-kolom yang tidak diperlukan\n",
    "    cols_to_drop = ['Source IP', 'Destination IP', 'Flow ID', 'SimillarHTTP', 'Unnamed: 0']\n",
    "    chunk.drop(columns=[col for col in cols_to_drop if col in chunk.columns], inplace=True)\n",
    "\n",
    "    # Konversi chunk ke table pyarrow\n",
    "    table = pa.Table.from_pandas(chunk)\n",
    "\n",
    "    # Jika writer belum dibuat, buat dengan schema table saat ini\n",
    "    if writer is None:\n",
    "        writer = pq.ParquetWriter(parquet_path, table.schema)\n",
    "    \n",
    "    writer.write_table(table)\n",
    "\n",
    "# Tutup writer setelah semua chunk selesai diproses\n",
    "if writer is not None:\n",
    "    writer.close()\n",
    "\n",
    "print('Training data processed successfully!')"
   ]
  },
  {
   "cell_type": "code",
   "execution_count": null,
   "metadata": {},
   "outputs": [],
   "source": [
    "import pandas as pd\n",
    "import numpy as np\n",
    "import hashlib\n",
    "import pyarrow as pa\n",
    "import pyarrow.parquet as pq\n",
    "\n",
    "# Path file\n",
    "csv_path = 'C:/Users/Eileen/Documents/Skripsi/archive/export_datatest.csv'\n",
    "parquet_path = 'C:/Users/Eileen/Documents/Skripsi/archive/export_datatest.parquet'\n",
    "\n",
    "# Fungsi untuk mengubah string menjadi hash numerik\n",
    "def string2numeric_hash(text):\n",
    "    return int(hashlib.md5(text.encode()).hexdigest()[:8], 16)\n",
    "\n",
    "# Tentukan ukuran chunk (sesuaikan dengan kapasitas memory Anda)\n",
    "chunksize = 10000\n",
    "\n",
    "# Baca CSV secara bertahap (chunking)\n",
    "chunk_iter = pd.read_csv(csv_path, sep=',', chunksize=chunksize, low_memory=False)\n",
    "\n",
    "# Inisialisasi writer sebagai None\n",
    "writer = None\n",
    "\n",
    "for chunk in chunk_iter:\n",
    "    # Hilangkan spasi ekstra pada nama kolom\n",
    "    chunk.columns = chunk.columns.str.strip()\n",
    "    \n",
    "    # Ganti nilai 'Infinity' dan np.inf dengan 0\n",
    "    chunk = chunk.replace(['Infinity', np.inf], 0)\n",
    "\n",
    "    # Konversi kolom numerik dengan aman\n",
    "    if 'Flow Packets/s' in chunk.columns:\n",
    "        chunk['Flow Packets/s'] = pd.to_numeric(chunk['Flow Packets/s'], errors='coerce').fillna(0)\n",
    "    if 'Flow Bytes/s' in chunk.columns:\n",
    "        chunk['Flow Bytes/s'] = pd.to_numeric(chunk['Flow Bytes/s'], errors='coerce').fillna(0)\n",
    "\n",
    "    # Konversi label menjadi numerik\n",
    "    if 'Label' in chunk.columns:\n",
    "        chunk['Label'] = chunk['Label'].replace({\n",
    "            'BENIGN': 0, 'LDAP': 1, 'NetBIOS': 1, 'MSSQL': 1,\n",
    "            'Portmap': 1, 'Syn': 1, 'UDP': 1, 'UDPLag': 1\n",
    "        }).astype(int)\n",
    "\n",
    "    # Pastikan kolom Timestamp tidak memiliki nilai NaN, lalu proses\n",
    "    if 'Timestamp' in chunk.columns:\n",
    "        chunk['Timestamp'] = chunk['Timestamp'].fillna('1970-01-01 00:00:00.000000')\n",
    "        # Pisahkan tanggal dan waktu\n",
    "        time_parts = chunk['Timestamp'].str.split(' ', n=1, expand=True)\n",
    "        if time_parts.shape[1] == 2:\n",
    "            time_parts.columns = ['date', 'time']\n",
    "            # Pisahkan waktu dari milidetik (jika ada)\n",
    "            time_split = time_parts['time'].str.split('.', n=1, expand=True)\n",
    "            if time_split.shape[1] == 2:\n",
    "                time_split.columns = ['time', 'millisec']\n",
    "                chunk['Timestamp'] = time_split['time'].apply(string2numeric_hash)\n",
    "            else:\n",
    "                chunk['Timestamp'] = chunk['Timestamp'].apply(string2numeric_hash)\n",
    "        else:\n",
    "            chunk['Timestamp'] = chunk['Timestamp'].apply(string2numeric_hash)\n",
    "\n",
    "    # Hapus kolom-kolom yang tidak diperlukan\n",
    "    cols_to_drop = ['Source IP', 'Destination IP', 'Flow ID', 'SimillarHTTP', 'Unnamed: 0']\n",
    "    chunk.drop(columns=[col for col in cols_to_drop if col in chunk.columns], inplace=True)\n",
    "\n",
    "    # Konversi chunk ke table pyarrow\n",
    "    table = pa.Table.from_pandas(chunk)\n",
    "\n",
    "    # Jika writer belum dibuat, buat dengan schema table saat ini\n",
    "    if writer is None:\n",
    "        writer = pq.ParquetWriter(parquet_path, table.schema)\n",
    "    \n",
    "    writer.write_table(table)\n",
    "\n",
    "# Tutup writer setelah semua chunk selesai diproses\n",
    "if writer is not None:\n",
    "    writer.close()\n",
    "\n",
    "print('Test data processed successfully!')"
   ]
  },
  {
   "cell_type": "code",
   "execution_count": null,
   "metadata": {},
   "outputs": [
    {
     "name": "stdout",
     "output_type": "stream",
     "text": [
      "Total benign flows: 56863\n",
      "Total anomalous flows: 50006249\n",
      "Final downsampled data is done\n"
     ]
    }
   ],
   "source": [
    "import pandas as pd\n",
    "import numpy as np\n",
    "from sklearn.utils import resample\n",
    "import pyarrow as pa\n",
    "import pyarrow.parquet as pq\n",
    "\n",
    "# Parameter downsampling\n",
    "mult = 5\n",
    "\n",
    "# Path file\n",
    "processed_parquet_path = 'C:/Users/Eileen/Documents/Skripsi/archive/export_dataframe.parquet'\n",
    "final_parquet_path = 'C:/Users/Eileen/Documents/Skripsi/archive/final_downsampled.parquet'\n",
    "\n",
    "# Inisialisasi list untuk menyimpan data tiap chunk\n",
    "benign_list = []\n",
    "anomalous_list = []\n",
    "\n",
    "# Membaca file Parquet yang sudah diproses secara chunk\n",
    "pf = pq.ParquetFile(processed_parquet_path)\n",
    "batch_size = 500000  # Atur sesuai kapasitas memori Anda\n",
    "\n",
    "for batch in pf.iter_batches(batch_size=batch_size):\n",
    "    df_chunk = batch.to_pandas()\n",
    "    # Asumsikan kolom 'Label' sudah berupa numerik: 0 = BENIGN\n",
    "    benign_chunk = df_chunk[df_chunk['Label'] == 0]\n",
    "    anomalous_chunk = df_chunk[df_chunk['Label'] != 0]\n",
    "    \n",
    "    benign_list.append(benign_chunk)\n",
    "    anomalous_list.append(anomalous_chunk)\n",
    "\n",
    "# Gabungkan seluruh chunk untuk masing-masing kategori\n",
    "benign_df = pd.concat(benign_list, ignore_index=True)\n",
    "anomalous_df = pd.concat(anomalous_list, ignore_index=True)\n",
    "\n",
    "print(\"Total benign flows:\", len(benign_df))\n",
    "print(\"Total anomalous flows:\", len(anomalous_df))\n",
    "\n",
    "# Tentukan target jumlah anomalous flows (mult kali jumlah benign flows)\n",
    "target_anomalous = len(benign_df) * mult\n",
    "\n",
    "# Lakukan downsampling jika jumlah anomalous lebih besar dari target\n",
    "if len(anomalous_df) > target_anomalous:\n",
    "    anomalous_df = resample(\n",
    "        anomalous_df,\n",
    "        replace=False,\n",
    "        n_samples=target_anomalous,\n",
    "        random_state=27\n",
    "    )\n",
    "\n",
    "# Gabungkan kembali data benign dan anomalous yang telah diproses\n",
    "final_df = pd.concat([benign_df, anomalous_df], ignore_index=True)\n",
    "final_df = final_df.sample(frac=1, random_state=27).reset_index(drop=True)  # Acak data\n",
    "\n",
    "# Simpan data akhir ke file Parquet\n",
    "table = pa.Table.from_pandas(final_df)\n",
    "pq.write_table(table, final_parquet_path)\n",
    "\n",
    "print(\"Final downsampled data is done\")"
   ]
  },
  {
   "cell_type": "code",
   "execution_count": 1,
   "metadata": {},
   "outputs": [],
   "source": [
    "def train_test(samples):\n",
    "    # Import `train_test_split` from `sklearn.model_selection`\n",
    "    from sklearn.model_selection import train_test_split\n",
    "    import numpy as np\n",
    "    \n",
    "    # Specify the data \n",
    "    X=samples.iloc[:,0:(samples.shape[1]-1)]\n",
    "    \n",
    "    # Specify the target labels and flatten the array\n",
    "    y= samples.iloc[:,-1]\n",
    "    \n",
    "    # Split the data up in train and test sets\n",
    "    X_train, X_test, y_train, y_test = train_test_split(X, y, test_size=0.33, random_state=42)\n",
    "    \n",
    "    return X_train, X_test, y_train, y_test"
   ]
  },
  {
   "cell_type": "code",
   "execution_count": 3,
   "metadata": {},
   "outputs": [],
   "source": [
    "import pandas as pd\n",
    "from sklearn.utils import resample\n",
    "from sklearn.model_selection import train_test_split\n",
    "\n",
    "file_path = 'C:/Users/Eileen/Documents/Skripsi/End/archive/final_downsampled.parquet'\n",
    "samples = pd.read_parquet(file_path)\n",
    "\n",
    "# Split data menjadi fitur (X) dan label (y)\n",
    "X = samples.drop(columns=[\"Label\"])  # Pastikan nama kolom 'Label' sesuai dataset\n",
    "y = samples[\"Label\"]\n",
    "\n",
    "# Pisahkan menjadi train dan test dengan stratifikasi\n",
    "X_train, X_test, y_train, y_test = train_test_split(X, y, test_size=0.2, random_state=42, stratify=y)\n",
    "\n",
    "# Gabungkan kembali untuk upsampling\n",
    "train_data = pd.concat([X_train, y_train], axis=1)\n",
    "\n",
    "# Pisahkan kelas minoritas (Normal) dan mayoritas (DDoS)\n",
    "normal = train_data[train_data[\"Label\"] == 0]\n",
    "ddos = train_data[train_data[\"Label\"] != 0]\n",
    "\n",
    "# Lakukan upsampling pada data normal agar seimbang dengan DDoS\n",
    "normal_upsampled = resample(normal,\n",
    "                            replace=True,\n",
    "                            n_samples=len(ddos), \n",
    "                            random_state=27)\n",
    "\n",
    "# Gabungkan kembali dataset setelah upsampling\n",
    "upsampled_train = pd.concat([normal_upsampled, ddos])\n",
    "\n",
    "# Pisahkan kembali fitur (X_train) dan label (y_train)\n",
    "X_train = upsampled_train.drop(columns=[\"Label\"])\n",
    "y_train = upsampled_train[\"Label\"]\n",
    "\n",
    "X_train_rf = X_train\n",
    "y_train_rf = y_train\n",
    "# Tentukan ukuran input untuk model\n",
    "input_size = (X_train.shape[1], 1)\n",
    "\n",
    "# Bersihkan variabel yang tidak diperlukan\n",
    "del train_data, normal_upsampled, ddos, upsampled_train, normal\n"
   ]
  },
  {
   "cell_type": "code",
   "execution_count": 4,
   "metadata": {},
   "outputs": [],
   "source": [
    "def normalize_data(X_train,X_test):\n",
    "    # Import `StandardScaler` from `sklearn.preprocessing`\n",
    "    from sklearn.preprocessing import StandardScaler,MinMaxScaler\n",
    "    \n",
    "    # Define the scaler \n",
    "    #scaler = StandardScaler().fit(X_train)\n",
    "    scaler = MinMaxScaler(feature_range=(-1, 1)).fit(X_train)\n",
    "    \n",
    "    # Scale the train set\n",
    "    X_train = scaler.transform(X_train)\n",
    "    \n",
    "    # Scale the test set\n",
    "    X_test = scaler.transform(X_test)\n",
    "    \n",
    "    return X_train, X_test"
   ]
  },
  {
   "cell_type": "code",
   "execution_count": 5,
   "metadata": {},
   "outputs": [],
   "source": [
    "import pandas as pd\n",
    "\n",
    "# Baca file Parquet sebagai data uji\n",
    "file_path = 'C:/Users/Eileen/Documents/Skripsi/End/archive/export_datatest.parquet'\n",
    "tests = pd.read_parquet(file_path)\n",
    "\n",
    "# Pisahkan fitur (X_test) dan label (y_test) \n",
    "X_test = tests.iloc[:, 0:(tests.shape[1] - 1)]  \n",
    "y_test = tests.iloc[:, -1]\n",
    "\n",
    "# Normalisasi data train dan test\n",
    "X_train, X_test = normalize_data(X_train, X_test)"
   ]
  },
  {
   "cell_type": "code",
   "execution_count": 6,
   "metadata": {},
   "outputs": [],
   "source": [
    "#Reshape data in 3d or 2d format for input in methods CNN)\n",
    "def format_3d(df):\n",
    "    \n",
    "    X = np.array(df)\n",
    "    return np.reshape(X, (X.shape[0], X.shape[1], 1))\n",
    "\n",
    "def format_2d(df):\n",
    "    \n",
    "    X = np.array(df)\n",
    "    return np.reshape(X, (X.shape[0], X.shape[1]))"
   ]
  },
  {
   "cell_type": "code",
   "execution_count": 7,
   "metadata": {},
   "outputs": [],
   "source": [
    "def compile_train(model, X_train, y_train, deep=True):\n",
    "    \n",
    "    if(deep==True):\n",
    "        import matplotlib.pyplot as plt\n",
    "\n",
    "        model.compile(loss='binary_crossentropy',\n",
    "                      optimizer='adam',\n",
    "                      metrics=['accuracy'])\n",
    "        \n",
    "        history = model.fit(X_train, y_train, epochs=10, batch_size=256, verbose=1)\n",
    "\n",
    "        # summarize history for accuracy\n",
    "        plt.plot(history.history['accuracy']) \n",
    "        plt.title('Model Accuracy')\n",
    "        plt.ylabel('Accuracy')\n",
    "        plt.xlabel('Epoch')\n",
    "        plt.legend(['Train'], loc='upper left')\n",
    "        plt.show()\n",
    "\n",
    "        # summarize history for loss\n",
    "        plt.plot(history.history['loss'])\n",
    "        plt.title('Model Loss')\n",
    "        plt.ylabel('Loss')\n",
    "        plt.xlabel('Epoch')\n",
    "        plt.legend(['Train'], loc='upper left')\n",
    "        plt.show()\n",
    "\n",
    "        print(model.metrics_names)\n",
    "    \n",
    "    else:\n",
    "        model.fit(X_train, y_train)  # For SVM\n",
    "    \n",
    "    print('Model Compiled and Trained')\n",
    "    return model"
   ]
  },
  {
   "cell_type": "code",
   "execution_count": 8,
   "metadata": {},
   "outputs": [],
   "source": [
    "def testes(model,X_test,y_test,y_pred, deep=True):\n",
    "    if(deep==True): \n",
    "        score = model.evaluate(X_test, y_test,verbose=1)\n",
    "\n",
    "        print(score)\n",
    "\n",
    "    # Import the modules from `sklearn.metrics`\n",
    "    from sklearn.metrics import confusion_matrix, precision_score, recall_score, f1_score, accuracy_score\n",
    "    \n",
    "    # Accuracy \n",
    "    acc = accuracy_score(y_test, y_pred)\n",
    "    print('\\nAccuracy')\n",
    "    print(acc)\n",
    "    \n",
    "    # Precision \n",
    "    prec = precision_score(y_test, y_pred)\n",
    "    print('\\nPrecision')\n",
    "    print(prec)\n",
    "    \n",
    "    # Recall\n",
    "    rec = recall_score(y_test, y_pred)\n",
    "    print('\\nRecall')\n",
    "    print(rec)\n",
    "    \n",
    "    # F1 score\n",
    "    f1 = f1_score(y_test,y_pred) #,average='macro')\n",
    "    print('\\nF1 Score')\n",
    "    print(f1)\n",
    "    \n",
    "    # Average\n",
    "    avrg = (acc+prec+rec+f1)/4\n",
    "    print('\\nAverage (acc, prec, rec, f1)')\n",
    "    print(avrg)\n",
    "    \n",
    "    return acc, prec, rec, f1, avrg"
   ]
  },
  {
   "cell_type": "code",
   "execution_count": 14,
   "metadata": {},
   "outputs": [],
   "source": [
    "def test_normal_atk(y_test,y_pred):\n",
    "    df = pd.DataFrame()\n",
    "    df['y_test'] = y_test\n",
    "    df['y_pred'] = y_pred\n",
    "    \n",
    "    normal = len(df.query('y_test == 0'))\n",
    "    atk = len(y_test)-normal\n",
    "    \n",
    "    wrong = df.query('y_test != y_pred')\n",
    "    \n",
    "    normal_detect_rate = (normal - wrong.groupby('y_test').count().iloc[0][0]) / normal\n",
    "    atk_detect_rate = (atk - wrong.groupby('y_test').count().iloc[1][0]) / atk\n",
    "    \n",
    "    return normal_detect_rate, atk_detect_rate"
   ]
  },
  {
   "cell_type": "code",
   "execution_count": 9,
   "metadata": {},
   "outputs": [],
   "source": [
    "from tensorflow.keras.models import Sequential\n",
    "from keras.layers import Dense,Dropout,Flatten,Conv1D,MaxPooling1D"
   ]
  },
  {
   "cell_type": "code",
   "execution_count": null,
   "metadata": {},
   "outputs": [],
   "source": [
    "from tensorflow.keras.models import Sequential\n",
    "from tensorflow.keras.layers import Input, Conv1D, MaxPooling1D, Dropout, Flatten, Dense\n",
    "\n",
    "def CNN_model(input_size):\n",
    "    model = Sequential([\n",
    "        Input(shape=(input_size, 1)),  \n",
    "        Conv1D(filters=64, kernel_size=8, activation='relu'),\n",
    "        MaxPooling1D(pool_size=2),\n",
    "        \n",
    "        Conv1D(filters=32, kernel_size=16, activation='relu'),\n",
    "        MaxPooling1D(pool_size=2),\n",
    "        \n",
    "        Conv1D(filters=16, kernel_size=3, activation='relu'),\n",
    "        MaxPooling1D(pool_size=2),\n",
    "        \n",
    "        Dropout(0.5),\n",
    "        \n",
    "        Flatten(),\n",
    "        Dense(10, activation='relu'),\n",
    "        Dense(1, activation='sigmoid') \n",
    "    ])  \n",
    "    \n",
    "    model.summary() \n",
    "    \n",
    "    return model \n"
   ]
  },
  {
   "cell_type": "code",
   "execution_count": 11,
   "metadata": {},
   "outputs": [
    {
     "data": {
      "text/html": [
       "<pre style=\"white-space:pre;overflow-x:auto;line-height:normal;font-family:Menlo,'DejaVu Sans Mono',consolas,'Courier New',monospace\"><span style=\"font-weight: bold\">Model: \"sequential\"</span>\n",
       "</pre>\n"
      ],
      "text/plain": [
       "\u001b[1mModel: \"sequential\"\u001b[0m\n"
      ]
     },
     "metadata": {},
     "output_type": "display_data"
    },
    {
     "data": {
      "text/html": [
       "<pre style=\"white-space:pre;overflow-x:auto;line-height:normal;font-family:Menlo,'DejaVu Sans Mono',consolas,'Courier New',monospace\">┏━━━━━━━━━━━━━━━━━━━━━━━━━━━━━━━━━┳━━━━━━━━━━━━━━━━━━━━━━━━┳━━━━━━━━━━━━━━━┓\n",
       "┃<span style=\"font-weight: bold\"> Layer (type)                    </span>┃<span style=\"font-weight: bold\"> Output Shape           </span>┃<span style=\"font-weight: bold\">       Param # </span>┃\n",
       "┡━━━━━━━━━━━━━━━━━━━━━━━━━━━━━━━━━╇━━━━━━━━━━━━━━━━━━━━━━━━╇━━━━━━━━━━━━━━━┩\n",
       "│ conv1d (<span style=\"color: #0087ff; text-decoration-color: #0087ff\">Conv1D</span>)                 │ (<span style=\"color: #00d7ff; text-decoration-color: #00d7ff\">None</span>, <span style=\"color: #00af00; text-decoration-color: #00af00\">75</span>, <span style=\"color: #00af00; text-decoration-color: #00af00\">64</span>)         │           <span style=\"color: #00af00; text-decoration-color: #00af00\">576</span> │\n",
       "├─────────────────────────────────┼────────────────────────┼───────────────┤\n",
       "│ max_pooling1d (<span style=\"color: #0087ff; text-decoration-color: #0087ff\">MaxPooling1D</span>)    │ (<span style=\"color: #00d7ff; text-decoration-color: #00d7ff\">None</span>, <span style=\"color: #00af00; text-decoration-color: #00af00\">37</span>, <span style=\"color: #00af00; text-decoration-color: #00af00\">64</span>)         │             <span style=\"color: #00af00; text-decoration-color: #00af00\">0</span> │\n",
       "├─────────────────────────────────┼────────────────────────┼───────────────┤\n",
       "│ conv1d_1 (<span style=\"color: #0087ff; text-decoration-color: #0087ff\">Conv1D</span>)               │ (<span style=\"color: #00d7ff; text-decoration-color: #00d7ff\">None</span>, <span style=\"color: #00af00; text-decoration-color: #00af00\">22</span>, <span style=\"color: #00af00; text-decoration-color: #00af00\">32</span>)         │        <span style=\"color: #00af00; text-decoration-color: #00af00\">32,800</span> │\n",
       "├─────────────────────────────────┼────────────────────────┼───────────────┤\n",
       "│ max_pooling1d_1 (<span style=\"color: #0087ff; text-decoration-color: #0087ff\">MaxPooling1D</span>)  │ (<span style=\"color: #00d7ff; text-decoration-color: #00d7ff\">None</span>, <span style=\"color: #00af00; text-decoration-color: #00af00\">11</span>, <span style=\"color: #00af00; text-decoration-color: #00af00\">32</span>)         │             <span style=\"color: #00af00; text-decoration-color: #00af00\">0</span> │\n",
       "├─────────────────────────────────┼────────────────────────┼───────────────┤\n",
       "│ conv1d_2 (<span style=\"color: #0087ff; text-decoration-color: #0087ff\">Conv1D</span>)               │ (<span style=\"color: #00d7ff; text-decoration-color: #00d7ff\">None</span>, <span style=\"color: #00af00; text-decoration-color: #00af00\">9</span>, <span style=\"color: #00af00; text-decoration-color: #00af00\">16</span>)          │         <span style=\"color: #00af00; text-decoration-color: #00af00\">1,552</span> │\n",
       "├─────────────────────────────────┼────────────────────────┼───────────────┤\n",
       "│ max_pooling1d_2 (<span style=\"color: #0087ff; text-decoration-color: #0087ff\">MaxPooling1D</span>)  │ (<span style=\"color: #00d7ff; text-decoration-color: #00d7ff\">None</span>, <span style=\"color: #00af00; text-decoration-color: #00af00\">4</span>, <span style=\"color: #00af00; text-decoration-color: #00af00\">16</span>)          │             <span style=\"color: #00af00; text-decoration-color: #00af00\">0</span> │\n",
       "├─────────────────────────────────┼────────────────────────┼───────────────┤\n",
       "│ dropout (<span style=\"color: #0087ff; text-decoration-color: #0087ff\">Dropout</span>)               │ (<span style=\"color: #00d7ff; text-decoration-color: #00d7ff\">None</span>, <span style=\"color: #00af00; text-decoration-color: #00af00\">4</span>, <span style=\"color: #00af00; text-decoration-color: #00af00\">16</span>)          │             <span style=\"color: #00af00; text-decoration-color: #00af00\">0</span> │\n",
       "├─────────────────────────────────┼────────────────────────┼───────────────┤\n",
       "│ flatten (<span style=\"color: #0087ff; text-decoration-color: #0087ff\">Flatten</span>)               │ (<span style=\"color: #00d7ff; text-decoration-color: #00d7ff\">None</span>, <span style=\"color: #00af00; text-decoration-color: #00af00\">64</span>)             │             <span style=\"color: #00af00; text-decoration-color: #00af00\">0</span> │\n",
       "├─────────────────────────────────┼────────────────────────┼───────────────┤\n",
       "│ dense (<span style=\"color: #0087ff; text-decoration-color: #0087ff\">Dense</span>)                   │ (<span style=\"color: #00d7ff; text-decoration-color: #00d7ff\">None</span>, <span style=\"color: #00af00; text-decoration-color: #00af00\">10</span>)             │           <span style=\"color: #00af00; text-decoration-color: #00af00\">650</span> │\n",
       "├─────────────────────────────────┼────────────────────────┼───────────────┤\n",
       "│ dense_1 (<span style=\"color: #0087ff; text-decoration-color: #0087ff\">Dense</span>)                 │ (<span style=\"color: #00d7ff; text-decoration-color: #00d7ff\">None</span>, <span style=\"color: #00af00; text-decoration-color: #00af00\">1</span>)              │            <span style=\"color: #00af00; text-decoration-color: #00af00\">11</span> │\n",
       "└─────────────────────────────────┴────────────────────────┴───────────────┘\n",
       "</pre>\n"
      ],
      "text/plain": [
       "┏━━━━━━━━━━━━━━━━━━━━━━━━━━━━━━━━━┳━━━━━━━━━━━━━━━━━━━━━━━━┳━━━━━━━━━━━━━━━┓\n",
       "┃\u001b[1m \u001b[0m\u001b[1mLayer (type)                   \u001b[0m\u001b[1m \u001b[0m┃\u001b[1m \u001b[0m\u001b[1mOutput Shape          \u001b[0m\u001b[1m \u001b[0m┃\u001b[1m \u001b[0m\u001b[1m      Param #\u001b[0m\u001b[1m \u001b[0m┃\n",
       "┡━━━━━━━━━━━━━━━━━━━━━━━━━━━━━━━━━╇━━━━━━━━━━━━━━━━━━━━━━━━╇━━━━━━━━━━━━━━━┩\n",
       "│ conv1d (\u001b[38;5;33mConv1D\u001b[0m)                 │ (\u001b[38;5;45mNone\u001b[0m, \u001b[38;5;34m75\u001b[0m, \u001b[38;5;34m64\u001b[0m)         │           \u001b[38;5;34m576\u001b[0m │\n",
       "├─────────────────────────────────┼────────────────────────┼───────────────┤\n",
       "│ max_pooling1d (\u001b[38;5;33mMaxPooling1D\u001b[0m)    │ (\u001b[38;5;45mNone\u001b[0m, \u001b[38;5;34m37\u001b[0m, \u001b[38;5;34m64\u001b[0m)         │             \u001b[38;5;34m0\u001b[0m │\n",
       "├─────────────────────────────────┼────────────────────────┼───────────────┤\n",
       "│ conv1d_1 (\u001b[38;5;33mConv1D\u001b[0m)               │ (\u001b[38;5;45mNone\u001b[0m, \u001b[38;5;34m22\u001b[0m, \u001b[38;5;34m32\u001b[0m)         │        \u001b[38;5;34m32,800\u001b[0m │\n",
       "├─────────────────────────────────┼────────────────────────┼───────────────┤\n",
       "│ max_pooling1d_1 (\u001b[38;5;33mMaxPooling1D\u001b[0m)  │ (\u001b[38;5;45mNone\u001b[0m, \u001b[38;5;34m11\u001b[0m, \u001b[38;5;34m32\u001b[0m)         │             \u001b[38;5;34m0\u001b[0m │\n",
       "├─────────────────────────────────┼────────────────────────┼───────────────┤\n",
       "│ conv1d_2 (\u001b[38;5;33mConv1D\u001b[0m)               │ (\u001b[38;5;45mNone\u001b[0m, \u001b[38;5;34m9\u001b[0m, \u001b[38;5;34m16\u001b[0m)          │         \u001b[38;5;34m1,552\u001b[0m │\n",
       "├─────────────────────────────────┼────────────────────────┼───────────────┤\n",
       "│ max_pooling1d_2 (\u001b[38;5;33mMaxPooling1D\u001b[0m)  │ (\u001b[38;5;45mNone\u001b[0m, \u001b[38;5;34m4\u001b[0m, \u001b[38;5;34m16\u001b[0m)          │             \u001b[38;5;34m0\u001b[0m │\n",
       "├─────────────────────────────────┼────────────────────────┼───────────────┤\n",
       "│ dropout (\u001b[38;5;33mDropout\u001b[0m)               │ (\u001b[38;5;45mNone\u001b[0m, \u001b[38;5;34m4\u001b[0m, \u001b[38;5;34m16\u001b[0m)          │             \u001b[38;5;34m0\u001b[0m │\n",
       "├─────────────────────────────────┼────────────────────────┼───────────────┤\n",
       "│ flatten (\u001b[38;5;33mFlatten\u001b[0m)               │ (\u001b[38;5;45mNone\u001b[0m, \u001b[38;5;34m64\u001b[0m)             │             \u001b[38;5;34m0\u001b[0m │\n",
       "├─────────────────────────────────┼────────────────────────┼───────────────┤\n",
       "│ dense (\u001b[38;5;33mDense\u001b[0m)                   │ (\u001b[38;5;45mNone\u001b[0m, \u001b[38;5;34m10\u001b[0m)             │           \u001b[38;5;34m650\u001b[0m │\n",
       "├─────────────────────────────────┼────────────────────────┼───────────────┤\n",
       "│ dense_1 (\u001b[38;5;33mDense\u001b[0m)                 │ (\u001b[38;5;45mNone\u001b[0m, \u001b[38;5;34m1\u001b[0m)              │            \u001b[38;5;34m11\u001b[0m │\n",
       "└─────────────────────────────────┴────────────────────────┴───────────────┘\n"
      ]
     },
     "metadata": {},
     "output_type": "display_data"
    },
    {
     "data": {
      "text/html": [
       "<pre style=\"white-space:pre;overflow-x:auto;line-height:normal;font-family:Menlo,'DejaVu Sans Mono',consolas,'Courier New',monospace\"><span style=\"font-weight: bold\"> Total params: </span><span style=\"color: #00af00; text-decoration-color: #00af00\">35,589</span> (139.02 KB)\n",
       "</pre>\n"
      ],
      "text/plain": [
       "\u001b[1m Total params: \u001b[0m\u001b[38;5;34m35,589\u001b[0m (139.02 KB)\n"
      ]
     },
     "metadata": {},
     "output_type": "display_data"
    },
    {
     "data": {
      "text/html": [
       "<pre style=\"white-space:pre;overflow-x:auto;line-height:normal;font-family:Menlo,'DejaVu Sans Mono',consolas,'Courier New',monospace\"><span style=\"font-weight: bold\"> Trainable params: </span><span style=\"color: #00af00; text-decoration-color: #00af00\">35,589</span> (139.02 KB)\n",
       "</pre>\n"
      ],
      "text/plain": [
       "\u001b[1m Trainable params: \u001b[0m\u001b[38;5;34m35,589\u001b[0m (139.02 KB)\n"
      ]
     },
     "metadata": {},
     "output_type": "display_data"
    },
    {
     "data": {
      "text/html": [
       "<pre style=\"white-space:pre;overflow-x:auto;line-height:normal;font-family:Menlo,'DejaVu Sans Mono',consolas,'Courier New',monospace\"><span style=\"font-weight: bold\"> Non-trainable params: </span><span style=\"color: #00af00; text-decoration-color: #00af00\">0</span> (0.00 B)\n",
       "</pre>\n"
      ],
      "text/plain": [
       "\u001b[1m Non-trainable params: \u001b[0m\u001b[38;5;34m0\u001b[0m (0.00 B)\n"
      ]
     },
     "metadata": {},
     "output_type": "display_data"
    },
    {
     "name": "stdout",
     "output_type": "stream",
     "text": [
      "Epoch 1/10\n",
      "\u001b[1m1777/1777\u001b[0m \u001b[32m━━━━━━━━━━━━━━━━━━━━\u001b[0m\u001b[37m\u001b[0m \u001b[1m29s\u001b[0m 16ms/step - accuracy: 0.9677 - loss: 0.0902\n",
      "Epoch 2/10\n",
      "\u001b[1m1777/1777\u001b[0m \u001b[32m━━━━━━━━━━━━━━━━━━━━\u001b[0m\u001b[37m\u001b[0m \u001b[1m28s\u001b[0m 16ms/step - accuracy: 0.9976 - loss: 0.0103\n",
      "Epoch 3/10\n",
      "\u001b[1m1777/1777\u001b[0m \u001b[32m━━━━━━━━━━━━━━━━━━━━\u001b[0m\u001b[37m\u001b[0m \u001b[1m26s\u001b[0m 14ms/step - accuracy: 0.9982 - loss: 0.0074\n",
      "Epoch 4/10\n",
      "\u001b[1m1777/1777\u001b[0m \u001b[32m━━━━━━━━━━━━━━━━━━━━\u001b[0m\u001b[37m\u001b[0m \u001b[1m26s\u001b[0m 15ms/step - accuracy: 0.9986 - loss: 0.0058\n",
      "Epoch 5/10\n",
      "\u001b[1m1777/1777\u001b[0m \u001b[32m━━━━━━━━━━━━━━━━━━━━\u001b[0m\u001b[37m\u001b[0m \u001b[1m26s\u001b[0m 15ms/step - accuracy: 0.9986 - loss: 0.0056\n",
      "Epoch 6/10\n",
      "\u001b[1m1777/1777\u001b[0m \u001b[32m━━━━━━━━━━━━━━━━━━━━\u001b[0m\u001b[37m\u001b[0m \u001b[1m26s\u001b[0m 15ms/step - accuracy: 0.9988 - loss: 0.0046\n",
      "Epoch 7/10\n",
      "\u001b[1m1777/1777\u001b[0m \u001b[32m━━━━━━━━━━━━━━━━━━━━\u001b[0m\u001b[37m\u001b[0m \u001b[1m26s\u001b[0m 15ms/step - accuracy: 0.9989 - loss: 0.0045\n",
      "Epoch 8/10\n",
      "\u001b[1m1777/1777\u001b[0m \u001b[32m━━━━━━━━━━━━━━━━━━━━\u001b[0m\u001b[37m\u001b[0m \u001b[1m26s\u001b[0m 15ms/step - accuracy: 0.9989 - loss: 0.0045\n",
      "Epoch 9/10\n",
      "\u001b[1m1777/1777\u001b[0m \u001b[32m━━━━━━━━━━━━━━━━━━━━\u001b[0m\u001b[37m\u001b[0m \u001b[1m26s\u001b[0m 15ms/step - accuracy: 0.9990 - loss: 0.0039\n",
      "Epoch 10/10\n",
      "\u001b[1m1777/1777\u001b[0m \u001b[32m━━━━━━━━━━━━━━━━━━━━\u001b[0m\u001b[37m\u001b[0m \u001b[1m26s\u001b[0m 15ms/step - accuracy: 0.9990 - loss: 0.0040\n"
     ]
    },
    {
     "data": {
      "image/png": "[encoded data removed]",
      "text/plain": [
       "<Figure size 640x480 with 1 Axes>"
      ]
     },
     "metadata": {},
     "output_type": "display_data"
    },
    {
     "data": {
      "image/png": "[encoded data removed]",
      "text/plain": [
       "<Figure size 640x480 with 1 Axes>"
      ]
     },
     "metadata": {},
     "output_type": "display_data"
    },
    {
     "name": "stdout",
     "output_type": "stream",
     "text": [
      "['loss', 'compile_metrics']\n",
      "Model Compiled and Trained\n"
     ]
    }
   ],
   "source": [
    "model_cnn = CNN_model(X_train.shape[1])\n",
    "model_cnn = compile_train(model_cnn,format_3d(X_train),y_train)"
   ]
  },
  {
   "cell_type": "code",
   "execution_count": 12,
   "metadata": {},
   "outputs": [],
   "source": [
    "results = pd.DataFrame(columns=['Method','Accuracy','Precision','Recall', 'F1_Score', 'Average','Normal_Detect_Rate','Atk_Detect_Rate'])"
   ]
  },
  {
   "cell_type": "code",
   "execution_count": null,
   "metadata": {},
   "outputs": [
    {
     "name": "stdout",
     "output_type": "stream",
     "text": [
      "\u001b[1m636392/636392\u001b[0m \u001b[32m━━━━━━━━━━━━━━━━━━━━\u001b[0m\u001b[37m\u001b[0m \u001b[1m1651s\u001b[0m 3ms/step\n",
      "\u001b[1m636392/636392\u001b[0m \u001b[32m━━━━━━━━━━━━━━━━━━━━\u001b[0m\u001b[37m\u001b[0m \u001b[1m13192s\u001b[0m 21ms/step - accuracy: 0.9995 - loss: 0.0020\n",
      "[0.0034837289713323116, 0.9991104006767273]\n",
      "\n",
      "Accuracy\n",
      "0.9990649425901169\n",
      "\n",
      "Precision\n",
      "0.9999955640327437\n",
      "\n",
      "Recall\n",
      "0.9990667514955022\n",
      "\n",
      "F1 Score\n",
      "0.9995309419897765\n",
      "\n",
      "Average (acc, prec, rec, f1)\n",
      "0.9994145500270348\n"
     ]
    },
    {
     "ename": "NameError",
     "evalue": "name 'test_normal_atk' is not defined",
     "output_type": "error",
     "traceback": [
      "\u001b[1;31m---------------------------------------------------------------------------\u001b[0m",
      "\u001b[1;31mNameError\u001b[0m                                 Traceback (most recent call last)",
      "Cell \u001b[1;32mIn[13], line 7\u001b[0m\n\u001b[0;32m      3\u001b[0m y_pred \u001b[38;5;241m=\u001b[39m y_pred\u001b[38;5;241m.\u001b[39mround()\n\u001b[0;32m      5\u001b[0m acc, prec, rec, f1, avrg \u001b[38;5;241m=\u001b[39m testes(model_cnn, format_3d(X_test), y_test, y_pred)\n\u001b[1;32m----> 7\u001b[0m norm, atk \u001b[38;5;241m=\u001b[39m test_normal_atk(y_test, y_pred)\n\u001b[0;32m      9\u001b[0m results \u001b[38;5;241m=\u001b[39m pd\u001b[38;5;241m.\u001b[39mconcat([results, pd\u001b[38;5;241m.\u001b[39mDataFrame([{\u001b[38;5;124m'\u001b[39m\u001b[38;5;124mMethod\u001b[39m\u001b[38;5;124m'\u001b[39m: \u001b[38;5;124m'\u001b[39m\u001b[38;5;124mCNN\u001b[39m\u001b[38;5;124m'\u001b[39m, \u001b[38;5;124m'\u001b[39m\u001b[38;5;124mAccuracy\u001b[39m\u001b[38;5;124m'\u001b[39m: acc, \u001b[38;5;124m'\u001b[39m\u001b[38;5;124mPrecision\u001b[39m\u001b[38;5;124m'\u001b[39m: prec, \n\u001b[0;32m     10\u001b[0m                                              \u001b[38;5;124m'\u001b[39m\u001b[38;5;124mF1_Score\u001b[39m\u001b[38;5;124m'\u001b[39m: f1, \u001b[38;5;124m'\u001b[39m\u001b[38;5;124mRecall\u001b[39m\u001b[38;5;124m'\u001b[39m: rec, \u001b[38;5;124m'\u001b[39m\u001b[38;5;124mAverage\u001b[39m\u001b[38;5;124m'\u001b[39m: avrg, \n\u001b[0;32m     11\u001b[0m                                              \u001b[38;5;124m'\u001b[39m\u001b[38;5;124mNormal_Detect_Rate\u001b[39m\u001b[38;5;124m'\u001b[39m: norm, \u001b[38;5;124m'\u001b[39m\u001b[38;5;124mAtk_Detect_Rate\u001b[39m\u001b[38;5;124m'\u001b[39m: atk}])], \n\u001b[0;32m     12\u001b[0m                                              ignore_index\u001b[38;5;241m=\u001b[39m\u001b[38;5;28;01mTrue\u001b[39;00m)\n",
      "\u001b[1;31mNameError\u001b[0m: name 'test_normal_atk' is not defined"
     ]
    }
   ],
   "source": [
    "y_pred = model_cnn.predict(format_3d(X_test))\n",
    "\n",
    "y_pred = y_pred.round()\n",
    "\n",
    "acc, prec, rec, f1, avrg = testes(model_cnn, format_3d(X_test), y_test, y_pred)"
   ]
  },
  {
   "cell_type": "code",
   "execution_count": null,
   "metadata": {},
   "outputs": [],
   "source": [
    "#bagian ini untuk error cell di atas\n",
    "norm, atk = test_normal_atk(y_test, y_pred)\n",
    "\n",
    "results = pd.concat([results, pd.DataFrame([{'Method': 'CNN', 'Accuracy': acc, 'Precision': prec, \n",
    "                                             'F1_Score': f1, 'Recall': rec, 'Average': avrg, \n",
    "                                             'Normal_Detect_Rate': norm, 'Atk_Detect_Rate': atk}])], \n",
    "                                             ignore_index=True)"
   ]
  },
  {
   "cell_type": "code",
   "execution_count": 16,
   "metadata": {},
   "outputs": [],
   "source": [
    "from sklearn.svm import LinearSVC"
   ]
  },
  {
   "cell_type": "code",
   "execution_count": 17,
   "metadata": {},
   "outputs": [
    {
     "name": "stdout",
     "output_type": "stream",
     "text": [
      "Model Compiled and Trained\n"
     ]
    }
   ],
   "source": [
    "model_svm = LinearSVC()\n",
    "model_svm = compile_train(model_svm,X_train,y_train,False)"
   ]
  },
  {
   "cell_type": "code",
   "execution_count": 18,
   "metadata": {},
   "outputs": [
    {
     "name": "stdout",
     "output_type": "stream",
     "text": [
      "\n",
      "Accuracy\n",
      "0.9996296991950463\n",
      "\n",
      "Precision\n",
      "0.9999913794670432\n",
      "\n",
      "Recall\n",
      "0.9996372779398411\n",
      "\n",
      "F1 Score\n",
      "0.999814297350648\n",
      "\n",
      "Average (acc, prec, rec, f1)\n",
      "0.9997681634881447\n"
     ]
    },
    {
     "name": "stderr",
     "output_type": "stream",
     "text": [
      "C:\\Users\\Eileen\\AppData\\Local\\Temp\\ipykernel_18548\\229298339.py:11: FutureWarning: Series.__getitem__ treating keys as positions is deprecated. In a future version, integer keys will always be treated as labels (consistent with DataFrame behavior). To access a value by position, use `ser.iloc[pos]`\n",
      "  normal_detect_rate = (normal - wrong.groupby('y_test').count().iloc[0][0]) / normal\n",
      "C:\\Users\\Eileen\\AppData\\Local\\Temp\\ipykernel_18548\\229298339.py:12: FutureWarning: Series.__getitem__ treating keys as positions is deprecated. In a future version, integer keys will always be treated as labels (consistent with DataFrame behavior). To access a value by position, use `ser.iloc[pos]`\n",
      "  atk_detect_rate = (atk - wrong.groupby('y_test').count().iloc[1][0]) / atk\n"
     ]
    }
   ],
   "source": [
    "y_pred = model_svm.predict(X_test)\n",
    "\n",
    "y_pred = y_pred.round()\n",
    "\n",
    "acc, prec, rec, f1, avrg = testes(model_svm, X_test, y_test, y_pred, False)\n",
    "\n",
    "norm, atk = test_normal_atk(y_test, y_pred)\n",
    "\n",
    "# Replace append with concat\n",
    "results = pd.concat([results, pd.DataFrame([{'Method': 'SVM', 'Accuracy': acc, 'Precision': prec, \n",
    "                                             'F1_Score': f1, 'Recall': rec, 'Average': avrg, \n",
    "                                             'Normal_Detect_Rate': norm, 'Atk_Detect_Rate': atk}])], \n",
    "                     ignore_index=True)"
   ]
  },
  {
   "cell_type": "code",
   "execution_count": null,
   "metadata": {},
   "outputs": [],
   "source": [
    "#random forest \n",
    "import pandas as pd\n",
    "import numpy as np\n",
    "import matplotlib.pyplot as plt"
   ]
  },
  {
   "cell_type": "code",
   "execution_count": 3,
   "metadata": {},
   "outputs": [],
   "source": [
    "from sklearn.ensemble import RandomForestClassifier\n",
    "# RF with 100 decision-trees\n",
    "\n",
    "rfc = RandomForestClassifier(random_state=0)\n",
    "\n",
    "# fit the model\n",
    "rfc.fit(X_train_rf, y_train_rf)\n",
    "\n",
    "# Predict the Test set results\n",
    "y_pred = rfc.predict(X_test)"
   ]
  },
  {
   "cell_type": "code",
   "execution_count": 9,
   "metadata": {},
   "outputs": [
    {
     "name": "stdout",
     "output_type": "stream",
     "text": [
      "\n",
      "Accuracy\n",
      "0.9999120698751393\n",
      "\n",
      "Precision\n",
      "1.0\n",
      "\n",
      "Recall\n",
      "0.9998944832316269\n",
      "\n",
      "F1 Score\n",
      "0.9999472388322195\n",
      "\n",
      "Average (acc, prec, rec, f1)\n",
      "0.9999384479847464\n"
     ]
    }
   ],
   "source": [
    "acc, prec, rec, f1, avrg = testes(rfc, X_test, y_test, y_pred, False)"
   ]
  }
 ],
 "metadata": {
  "kernelspec": {
   "display_name": "base",
   "language": "python",
   "name": "python3"
  },
  "language_info": {
   "codemirror_mode": {
    "name": "ipython",
    "version": 3
   },
   "file_extension": ".py",
   "mimetype": "text/x-python",
   "name": "python",
   "nbconvert_exporter": "python",
   "pygments_lexer": "ipython3",
   "version": "3.12.7"
  }
 },
 "nbformat": 4,
 "nbformat_minor": 2
}
